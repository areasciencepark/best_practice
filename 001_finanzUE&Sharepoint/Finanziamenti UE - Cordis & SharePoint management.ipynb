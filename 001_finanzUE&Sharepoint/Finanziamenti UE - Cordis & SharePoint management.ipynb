{
 "cells": [
  {
   "cell_type": "markdown",
   "metadata": {},
   "source": [
    "# Esempio di lettura .csv in Python da SharePoint e salvataggio in file .csv in cartella SharePoint."
   ]
  },
  {
   "cell_type": "markdown",
   "metadata": {},
   "source": [
    "Il seguente script descrive alcuni passaggi comuni di gestione di file .csv: dalla lettura da Sharepoint, alla pulizia del dato tramite funzioni della libreria pandas, al salvataggio in cartelle Sharepoint differenti dall'originale."
   ]
  },
  {
   "cell_type": "markdown",
   "metadata": {},
   "source": [
    "I file .csv utilizzati sono stati scaricati da Cordis - EU research projects under Horizon 2020 (2014-2020) (https://data.europa.eu/data/datasets/cordish2020projects?locale=en)."
   ]
  },
  {
   "cell_type": "markdown",
   "metadata": {},
   "source": [
    "\n",
    "La cartella .zip contiene i seguenti .csv:\n",
    "- project.csv: informazioni su tutti i progetti UE del programma H2020.\n",
    "- organization.csv: informazioni sulle organizzazioni che hanno partecipato con diversi ruoli ai progetti UE.\n",
    "- legalBasis.csv: titolo e legalBasis dei progetti UE.\n",
    "- topics.csv: argomenti per progetto UE.\n",
    "- euroSciVoc.csv: classificazione sulla base del \"Il vocabolario europeo della scienza\" (https://data.europa.eu/data/datasets/euroscivoc-the-european-science-vocabulary?locale=it)."
   ]
  },
  {
   "cell_type": "markdown",
   "metadata": {},
   "source": [
    "## Importazione librerie ed accesso a Sharepoint"
   ]
  },
  {
   "cell_type": "code",
   "execution_count": 3,
   "metadata": {},
   "outputs": [],
   "source": [
    "import sys\n",
    "import os\n",
    "from pathlib import Path \n",
    "import pandas as pd\n",
    "import datetime \n",
    "from pandas import ExcelFile\n",
    "import numpy as np\n",
    "import io\n",
    "import sharepy\n",
    "import getpass\n",
    "import csv\n",
    "pd.options.display.max_columns = None"
   ]
  },
  {
   "cell_type": "code",
   "execution_count": 4,
   "metadata": {},
   "outputs": [],
   "source": [
    "# Autenticazione a Sharepoint \n",
    "URL = 'https://areasciencepark.sharepoint.com'\n",
    "#SHAREPOINT_USER = 'andrea.bincoletto@areasciencepark.it'\n",
    "SHAREPOINT_USER = input(\"Inserire l'email aziendale: \")\n",
    "SHAREPOINT_PASSWORD =  getpass.getpass('Inserire la password: ')\n",
    "s = sharepy.connect(URL, username=SHAREPOINT_USER, password=SHAREPOINT_PASSWORD)"
   ]
  },
  {
   "cell_type": "markdown",
   "metadata": {},
   "source": [
    "## Apertura dei .csv contenuti nella cartella \"originali\""
   ]
  },
  {
   "cell_type": "markdown",
   "metadata": {},
   "source": [
    "Projects"
   ]
  },
  {
   "cell_type": "code",
   "execution_count": 5,
   "metadata": {},
   "outputs": [
    {
     "name": "stdout",
     "output_type": "stream",
     "text": [
      "(35378, 20)\n",
      "Dimensioni del dataframe: (35378, 20). Sample: \n"
     ]
    },
    {
     "data": {
      "text/html": [
       "<div>\n",
       "<style scoped>\n",
       "    .dataframe tbody tr th:only-of-type {\n",
       "        vertical-align: middle;\n",
       "    }\n",
       "\n",
       "    .dataframe tbody tr th {\n",
       "        vertical-align: top;\n",
       "    }\n",
       "\n",
       "    .dataframe thead th {\n",
       "        text-align: right;\n",
       "    }\n",
       "</style>\n",
       "<table border=\"1\" class=\"dataframe\">\n",
       "  <thead>\n",
       "    <tr style=\"text-align: right;\">\n",
       "      <th></th>\n",
       "      <th>id</th>\n",
       "      <th>acronym</th>\n",
       "      <th>status</th>\n",
       "      <th>title</th>\n",
       "      <th>startDate</th>\n",
       "      <th>endDate</th>\n",
       "      <th>totalCost</th>\n",
       "      <th>ecMaxContribution</th>\n",
       "      <th>legalBasis</th>\n",
       "      <th>topics</th>\n",
       "      <th>ecSignatureDate</th>\n",
       "      <th>frameworkProgramme</th>\n",
       "      <th>masterCall</th>\n",
       "      <th>subCall</th>\n",
       "      <th>fundingScheme</th>\n",
       "      <th>nature</th>\n",
       "      <th>objective</th>\n",
       "      <th>contentUpdateDate</th>\n",
       "      <th>rcn</th>\n",
       "      <th>grantDoi</th>\n",
       "    </tr>\n",
       "  </thead>\n",
       "  <tbody>\n",
       "    <tr>\n",
       "      <th>14133</th>\n",
       "      <td>680153</td>\n",
       "      <td>DMAP</td>\n",
       "      <td>CLOSED</td>\n",
       "      <td>Data Mining Algorithms in Practice</td>\n",
       "      <td>2016-02-01</td>\n",
       "      <td>2021-01-31</td>\n",
       "      <td>1137500</td>\n",
       "      <td>1137500</td>\n",
       "      <td>NaN</td>\n",
       "      <td>ERC-StG-2015</td>\n",
       "      <td>NaN</td>\n",
       "      <td>H2020</td>\n",
       "      <td>NaN</td>\n",
       "      <td>ERC-2015-STG</td>\n",
       "      <td>ERC-STG</td>\n",
       "      <td>NaN</td>\n",
       "      <td>Data Mining algorithms are a cornerstone of to...</td>\n",
       "      <td>2021-05-31 11:12:06</td>\n",
       "      <td>199559</td>\n",
       "      <td>NaN</td>\n",
       "    </tr>\n",
       "    <tr>\n",
       "      <th>856</th>\n",
       "      <td>950584</td>\n",
       "      <td>DecOmPress</td>\n",
       "      <td>SIGNED</td>\n",
       "      <td>Decoding spatio-temporal omics in progressive ...</td>\n",
       "      <td>2021-01-01</td>\n",
       "      <td>2025-12-31</td>\n",
       "      <td>1500000</td>\n",
       "      <td>1500000</td>\n",
       "      <td>NaN</td>\n",
       "      <td>ERC-2020-STG</td>\n",
       "      <td>NaN</td>\n",
       "      <td>H2020</td>\n",
       "      <td>NaN</td>\n",
       "      <td>ERC-2020-STG</td>\n",
       "      <td>ERC-STG</td>\n",
       "      <td>NaN</td>\n",
       "      <td>Multiple sclerosis (MS) is a paradigmatic prog...</td>\n",
       "      <td>2020-11-17 17:39:37</td>\n",
       "      <td>232979</td>\n",
       "      <td>NaN</td>\n",
       "    </tr>\n",
       "    <tr>\n",
       "      <th>33647</th>\n",
       "      <td>888726</td>\n",
       "      <td>uHeart</td>\n",
       "      <td>CLOSED</td>\n",
       "      <td>A beating Heart-on-Chip for pre-clinical early...</td>\n",
       "      <td>2019-12-01</td>\n",
       "      <td>2020-02-29</td>\n",
       "      <td>71429</td>\n",
       "      <td>50000</td>\n",
       "      <td>NaN</td>\n",
       "      <td>EIC-SMEInst-2018-2020</td>\n",
       "      <td>NaN</td>\n",
       "      <td>H2020</td>\n",
       "      <td>NaN</td>\n",
       "      <td>H2020-SMEInst-2018-2020-1</td>\n",
       "      <td>SME-1</td>\n",
       "      <td>NaN</td>\n",
       "      <td>The cost to develop new drugs is huge, mainly ...</td>\n",
       "      <td>2020-08-07 14:20:28</td>\n",
       "      <td>225930</td>\n",
       "      <td>NaN</td>\n",
       "    </tr>\n",
       "    <tr>\n",
       "      <th>26388</th>\n",
       "      <td>757038</td>\n",
       "      <td>SIMPLE</td>\n",
       "      <td>SIGNED</td>\n",
       "      <td>Spacefibre IMPLementation design test Equipmen...</td>\n",
       "      <td>2017-02-01</td>\n",
       "      <td>2019-01-31</td>\n",
       "      <td>912930</td>\n",
       "      <td>639051</td>\n",
       "      <td>NaN</td>\n",
       "      <td>SMEInst-04-2016-2017</td>\n",
       "      <td>NaN</td>\n",
       "      <td>H2020</td>\n",
       "      <td>NaN</td>\n",
       "      <td>H2020-SMEINST-2-2016-2017</td>\n",
       "      <td>SME-2</td>\n",
       "      <td>NaN</td>\n",
       "      <td>Following the success of SpaceWire, SpaceFibre...</td>\n",
       "      <td>2017-01-11 13:54:15</td>\n",
       "      <td>207927</td>\n",
       "      <td>NaN</td>\n",
       "    </tr>\n",
       "    <tr>\n",
       "      <th>3881</th>\n",
       "      <td>809520</td>\n",
       "      <td>SolidCool</td>\n",
       "      <td>CLOSED</td>\n",
       "      <td>Cost-efficient, solid-state refrigeration tech...</td>\n",
       "      <td>2018-02-01</td>\n",
       "      <td>2018-05-31</td>\n",
       "      <td>71429</td>\n",
       "      <td>50000</td>\n",
       "      <td>H2020-EU.3.3.</td>\n",
       "      <td>SMEInst-09-2016-2017</td>\n",
       "      <td>2018-01-31</td>\n",
       "      <td>H2020</td>\n",
       "      <td>H2020-SMEInst-2016-2017</td>\n",
       "      <td>H2020-SMEINST-1-2016-2017</td>\n",
       "      <td>SME-1</td>\n",
       "      <td>NaN</td>\n",
       "      <td>Vapour compression (VC) technology, used in th...</td>\n",
       "      <td>2022-01-14 17:01:14</td>\n",
       "      <td>213729</td>\n",
       "      <td>NaN</td>\n",
       "    </tr>\n",
       "  </tbody>\n",
       "</table>\n",
       "</div>"
      ],
      "text/plain": [
       "           id     acronym  status  \\\n",
       "14133  680153        DMAP  CLOSED   \n",
       "856    950584  DecOmPress  SIGNED   \n",
       "33647  888726      uHeart  CLOSED   \n",
       "26388  757038      SIMPLE  SIGNED   \n",
       "3881   809520   SolidCool  CLOSED   \n",
       "\n",
       "                                                   title   startDate  \\\n",
       "14133                 Data Mining Algorithms in Practice  2016-02-01   \n",
       "856    Decoding spatio-temporal omics in progressive ...  2021-01-01   \n",
       "33647  A beating Heart-on-Chip for pre-clinical early...  2019-12-01   \n",
       "26388  Spacefibre IMPLementation design test Equipmen...  2017-02-01   \n",
       "3881   Cost-efficient, solid-state refrigeration tech...  2018-02-01   \n",
       "\n",
       "          endDate totalCost ecMaxContribution     legalBasis  \\\n",
       "14133  2021-01-31   1137500           1137500            NaN   \n",
       "856    2025-12-31   1500000           1500000            NaN   \n",
       "33647  2020-02-29     71429             50000            NaN   \n",
       "26388  2019-01-31    912930            639051            NaN   \n",
       "3881   2018-05-31     71429             50000  H2020-EU.3.3.   \n",
       "\n",
       "                      topics ecSignatureDate frameworkProgramme  \\\n",
       "14133           ERC-StG-2015             NaN              H2020   \n",
       "856             ERC-2020-STG             NaN              H2020   \n",
       "33647  EIC-SMEInst-2018-2020             NaN              H2020   \n",
       "26388   SMEInst-04-2016-2017             NaN              H2020   \n",
       "3881    SMEInst-09-2016-2017      2018-01-31              H2020   \n",
       "\n",
       "                    masterCall                    subCall fundingScheme  \\\n",
       "14133                      NaN               ERC-2015-STG       ERC-STG   \n",
       "856                        NaN               ERC-2020-STG       ERC-STG   \n",
       "33647                      NaN  H2020-SMEInst-2018-2020-1         SME-1   \n",
       "26388                      NaN  H2020-SMEINST-2-2016-2017         SME-2   \n",
       "3881   H2020-SMEInst-2016-2017  H2020-SMEINST-1-2016-2017         SME-1   \n",
       "\n",
       "      nature                                          objective  \\\n",
       "14133    NaN  Data Mining algorithms are a cornerstone of to...   \n",
       "856      NaN  Multiple sclerosis (MS) is a paradigmatic prog...   \n",
       "33647    NaN  The cost to develop new drugs is huge, mainly ...   \n",
       "26388    NaN  Following the success of SpaceWire, SpaceFibre...   \n",
       "3881     NaN  Vapour compression (VC) technology, used in th...   \n",
       "\n",
       "         contentUpdateDate     rcn grantDoi  \n",
       "14133  2021-05-31 11:12:06  199559      NaN  \n",
       "856    2020-11-17 17:39:37  232979      NaN  \n",
       "33647  2020-08-07 14:20:28  225930      NaN  \n",
       "26388  2017-01-11 13:54:15  207927      NaN  \n",
       "3881   2022-01-14 17:01:14  213729      NaN  "
      ]
     },
     "execution_count": 5,
     "metadata": {},
     "output_type": "execute_result"
    }
   ],
   "source": [
    "# aprire il CVS (\"project.csv\") in un dataframe \n",
    "SHP_URL = 'https://areasciencepark.sharepoint.com/sites/DataRepository/Documenti condivisi/General/'\n",
    "SHP_DIR = 'dataset_imprese_fvg/test storicizzazione/originali/'\n",
    "SHP_FILE = 'project.csv'\n",
    "\n",
    "r = s.get(SHP_URL + SHP_DIR + SHP_FILE)\n",
    "f = io.BytesIO(r.content)\n",
    "df_project = pd.read_csv(f, sep=\";\", encoding='utf-8-sig', dtype = str)\n",
    "print(df_project.shape)\n",
    "assert df_project.shape[1] == 20 # controlla che la dimensione sia quella prevista\n",
    "print(f'Dimensioni del dataframe: {df_project.shape}. Sample: ')\n",
    "df_project.sample(5)"
   ]
  },
  {
   "cell_type": "code",
   "execution_count": 6,
   "metadata": {},
   "outputs": [],
   "source": [
    "# copiare il dataframe, per mantenere l'originale se dovesse servire\n",
    "df_project_elab = df_project.copy(deep=False)"
   ]
  },
  {
   "cell_type": "code",
   "execution_count": 7,
   "metadata": {},
   "outputs": [
    {
     "data": {
      "text/plain": [
       "(35378, 11)"
      ]
     },
     "execution_count": 7,
     "metadata": {},
     "output_type": "execute_result"
    }
   ],
   "source": [
    "# drop delle colonne del df_project_elab che non servono\n",
    "df_project_elab = df_project_elab.drop(columns=[\n",
    "    'legalBasis','masterCall','grantDoi','nature','ecSignatureDate','contentUpdateDate',\n",
    "    'ecMaxContribution', 'rcn', 'topics'\n",
    "])\n",
    "df_project_elab.shape"
   ]
  },
  {
   "cell_type": "code",
   "execution_count": 8,
   "metadata": {},
   "outputs": [],
   "source": [
    "# rename delle colonne del df_project\n",
    "df_project_elab = df_project_elab.rename(columns={\n",
    "    'id': 'projectID',\n",
    "    'subCall':'call',\n",
    "    'title': 'long_title'\n",
    "})"
   ]
  },
  {
   "cell_type": "code",
   "execution_count": 9,
   "metadata": {},
   "outputs": [
    {
     "name": "stdout",
     "output_type": "stream",
     "text": [
      "\n"
     ]
    }
   ],
   "source": [
    "# UPLOAD df_project_elab in sharepoint\n",
    "SHP_URL= 'https://areasciencepark.sharepoint.com/Sites/DataRepository/Documenti condivisi/General/'\n",
    "SHP_DIR = 'dataset_imprese_fvg/test storicizzazione/elaborati/'\n",
    "SHP_FILE = 'projects_elab.csv'\n",
    "\n",
    "f = df_project_elab.to_csv(sep=';', index=False).encode('utf-8')\n",
    "#f = df_project_elab.to_csv(sep=';', encoding='utf-8-sig', index=False)\n",
    "r = s.put(SHP_URL + SHP_DIR + SHP_FILE, f)\n",
    "print(r.text)"
   ]
  },
  {
   "cell_type": "markdown",
   "metadata": {},
   "source": [
    "Organization"
   ]
  },
  {
   "cell_type": "code",
   "execution_count": 10,
   "metadata": {},
   "outputs": [
    {
     "name": "stdout",
     "output_type": "stream",
     "text": [
      "(172730, 25)\n"
     ]
    }
   ],
   "source": [
    "# Aprire il CSV (\"organization.csv\") in un dataframe\n",
    "SHP_URL = 'https://areasciencepark.sharepoint.com/sites/DataRepository/Documenti condivisi/General/'\n",
    "SHP_DIR = 'dataset_imprese_fvg/test storicizzazione/originali/'\n",
    "SHP_FILE = 'organization.csv'\n",
    "\n",
    "r = s.get(SHP_URL + SHP_DIR + SHP_FILE)\n",
    "f = io.BytesIO(r.content)\n",
    "df_org = pd.read_csv(f, sep=\";\", dtype = str)\n",
    "print(df_org.shape)"
   ]
  },
  {
   "cell_type": "code",
   "execution_count": 11,
   "metadata": {},
   "outputs": [],
   "source": [
    "df_org_elab = df_org.copy(deep=False)"
   ]
  },
  {
   "cell_type": "code",
   "execution_count": 12,
   "metadata": {},
   "outputs": [
    {
     "name": "stdout",
     "output_type": "stream",
     "text": [
      "Verifica del conteggio delle organizzazioni IT:\n",
      "DE    20249\n",
      "ES    18161\n",
      "UK    17073\n",
      "IT    16523\n",
      "FR    16339\n",
      "Name: country, dtype: int64\n",
      "Il nuovo dataframe deve avere le stesse righe del conteggio sopra.\n",
      "df_org_elab ora ha dimensioni: (16523, 25)\n"
     ]
    }
   ],
   "source": [
    "# filtro il df per le sole imprese con 'country' = IT\n",
    "print(\"Verifica del conteggio delle organizzazioni IT:\")\n",
    "#print(df_org_elab[\"country\"].value_counts().head(7))\n",
    "print(df_org_elab[\"country\"].value_counts().head())\n",
    "it_filter = df_org_elab[\"country\"] == \"IT\"\n",
    "df_org_elab = df_org_elab.loc[it_filter].copy()\n",
    "print(\"Il nuovo dataframe deve avere le stesse righe del conteggio sopra.\")\n",
    "print(f\"df_org_elab ora ha dimensioni: {df_org_elab.shape}\")"
   ]
  },
  {
   "cell_type": "code",
   "execution_count": 13,
   "metadata": {},
   "outputs": [
    {
     "data": {
      "text/plain": [
       "(15703, 25)"
      ]
     },
     "execution_count": 13,
     "metadata": {},
     "output_type": "execute_result"
    }
   ],
   "source": [
    "# drop delle righe di \"vatNumber\" non valorizzate (vuote) \n",
    "# NB: si possono salvare le righe senza vatNumber in un altro df!\n",
    "df_org_elab = df_org_elab[df_org_elab['vatNumber'].notna()]\n",
    "df_org_elab.shape"
   ]
  },
  {
   "cell_type": "code",
   "execution_count": 14,
   "metadata": {},
   "outputs": [
    {
     "data": {
      "text/plain": [
       "(15703, 13)"
      ]
     },
     "execution_count": 14,
     "metadata": {},
     "output_type": "execute_result"
    }
   ],
   "source": [
    "# drop delle colonne di df_organization_elab che non servono\n",
    "df_org_elab = df_org_elab.drop(columns=[\n",
    "    'nutsCode','geolocation','order','contentUpdateDate',\n",
    "    'netEcContribution','totalCost','active','SME', 'organizationURL',\n",
    "    'contactForm', 'contentUpdateDate', 'rcn', 'order',\n",
    "    'projectAcronym'\n",
    "])\n",
    "df_org_elab.shape"
   ]
  },
  {
   "cell_type": "code",
   "execution_count": 15,
   "metadata": {},
   "outputs": [
    {
     "data": {
      "text/plain": [
       "Index(['projectID', 'organisationID', 'vatNumber', 'name', 'shortName',\n",
       "       'activityType', 'street', 'postCode', 'city', 'country', 'role',\n",
       "       'ecContribution', 'endOfParticipation'],\n",
       "      dtype='object')"
      ]
     },
     "execution_count": 15,
     "metadata": {},
     "output_type": "execute_result"
    }
   ],
   "source": [
    "df_org_elab.columns"
   ]
  },
  {
   "cell_type": "code",
   "execution_count": 16,
   "metadata": {},
   "outputs": [
    {
     "data": {
      "text/plain": [
       "Index(['projectID', 'organisationID', 'vatNumber', 'name', 'shortName',\n",
       "       'activityType', 'street', 'postCode', 'city', 'country', 'role',\n",
       "       'ecContribution', 'endOfParticipation', 'piva'],\n",
       "      dtype='object')"
      ]
     },
     "execution_count": 16,
     "metadata": {},
     "output_type": "execute_result"
    }
   ],
   "source": [
    "#divido dal \"vatNumber\" la p.iva e le prime due cifre riferite allo Stato d'appartenenza dell'organizzazione\n",
    "df_org_elab['vatNumber'] = df_org_elab['vatNumber'].astype(str)\n",
    "# df_org_elab['vatNumber'] = df_org_elab['Country_piva'].str[1]\n",
    "# df_org_elab['vatNumber'] = df_org_elab['vatNumber'].str[2:]\n",
    "# df_org_elab[['Country_piva', 'vatNumber']] = df_org_elab['vatNumber'].str.split(n=2, expand=True)\n",
    "df_org_elab[\"piva\"] = df_org_elab[\"vatNumber\"].map(lambda vatNumber: str(vatNumber)[2:])\n",
    "df_org_elab.columns"
   ]
  },
  {
   "cell_type": "code",
   "execution_count": 17,
   "metadata": {},
   "outputs": [
    {
     "name": "stdout",
     "output_type": "stream",
     "text": [
      "Le partite iva presenti hanno le seguenti lunghezze: \n",
      "11    15598\n",
      "5        51\n",
      "10       39\n",
      "12       10\n",
      "9         4\n",
      "Name: len_piva, dtype: int64\n"
     ]
    }
   ],
   "source": [
    "# count e drop delle righe con una partita iva diversa da 11 caratteri di lunghezza\n",
    "df_org_elab['piva'] = df_org_elab['piva'].astype(str)\n",
    "#df_org_elab['len_piva'] = df_org_elab['piva'].str.len()\n",
    "#df_org_elab['len_piva'] = ['']\n",
    "df_org_elab['len_piva'] = df_org_elab['piva'].apply(lambda x: len(x))\n",
    "print(\"Le partite iva presenti hanno le seguenti lunghezze: \")\n",
    "print(df_org_elab[\"len_piva\"].value_counts().head())"
   ]
  },
  {
   "cell_type": "code",
   "execution_count": 18,
   "metadata": {},
   "outputs": [
    {
     "name": "stdout",
     "output_type": "stream",
     "text": [
      "Il dataframe deve avere il numero di righe con lunghezza della partita iva pari a 11.\n",
      "(15598, 15) deve essere uguale al numero del conteggio della cella di output sopra.\n"
     ]
    }
   ],
   "source": [
    "# drop delle righe con partita iva con lunghezza diversa da 11\n",
    "df_org_elab = df_org_elab.loc[df_org_elab['len_piva'].isin([11])]\n",
    "print(\"Il dataframe deve avere il numero di righe con lunghezza della partita iva pari a 11.\")\n",
    "print(f\"{df_org_elab.shape} deve essere uguale al numero del conteggio della cella di output sopra.\")"
   ]
  },
  {
   "cell_type": "code",
   "execution_count": 19,
   "metadata": {},
   "outputs": [
    {
     "data": {
      "text/plain": [
       "Index(['projectID', 'organisationID', 'name', 'shortName', 'activityType',\n",
       "       'street', 'postCode', 'city', 'country', 'role', 'ecContribution',\n",
       "       'endOfParticipation', 'piva'],\n",
       "      dtype='object')"
      ]
     },
     "execution_count": 19,
     "metadata": {},
     "output_type": "execute_result"
    }
   ],
   "source": [
    "# drop della colonna \"vatNumber\" e \"len_piva\", abbiamo \"piva\" ora\n",
    "df_org_elab = df_org_elab.drop(columns=[\n",
    "    'vatNumber', 'len_piva'\n",
    "])\n",
    "df_org_elab.columns"
   ]
  },
  {
   "cell_type": "code",
   "execution_count": 20,
   "metadata": {},
   "outputs": [
    {
     "data": {
      "text/html": [
       "<div>\n",
       "<style scoped>\n",
       "    .dataframe tbody tr th:only-of-type {\n",
       "        vertical-align: middle;\n",
       "    }\n",
       "\n",
       "    .dataframe tbody tr th {\n",
       "        vertical-align: top;\n",
       "    }\n",
       "\n",
       "    .dataframe thead th {\n",
       "        text-align: right;\n",
       "    }\n",
       "</style>\n",
       "<table border=\"1\" class=\"dataframe\">\n",
       "  <thead>\n",
       "    <tr style=\"text-align: right;\">\n",
       "      <th></th>\n",
       "      <th>projectID</th>\n",
       "    </tr>\n",
       "  </thead>\n",
       "  <tbody>\n",
       "    <tr>\n",
       "      <th>20</th>\n",
       "      <td>787419</td>\n",
       "    </tr>\n",
       "    <tr>\n",
       "      <th>39</th>\n",
       "      <td>894921</td>\n",
       "    </tr>\n",
       "    <tr>\n",
       "      <th>45</th>\n",
       "      <td>891197</td>\n",
       "    </tr>\n",
       "  </tbody>\n",
       "</table>\n",
       "</div>"
      ],
      "text/plain": [
       "   projectID\n",
       "20    787419\n",
       "39    894921\n",
       "45    891197"
      ]
     },
     "execution_count": 20,
     "metadata": {},
     "output_type": "execute_result"
    }
   ],
   "source": [
    "# Filtro dei soli progetti con organizzazioni italiane (basato su projectID)\n",
    "# due versioni: df_projectID_IT e filter_projectID\n",
    "df_projectID_IT = df_org_elab.copy(deep=False)\n",
    "df_projectID_IT = df_projectID_IT.drop(columns={\n",
    "    'organisationID', 'name', 'shortName', 'activityType',\n",
    "    'street', 'postCode', 'city', 'country', 'role', \n",
    "    'ecContribution', 'endOfParticipation', 'piva'\n",
    "})\n",
    "filter_projectID = df_org_elab['projectID']\n",
    "print(f\"Il primo filtro ha dimensione: {df_projectID_IT.shape}\")\n",
    "print(f\"Il secondo filtro ha dimensione: {filter_projectID.shape}\")"
   ]
  },
  {
   "cell_type": "code",
   "execution_count": 21,
   "metadata": {},
   "outputs": [
    {
     "name": "stdout",
     "output_type": "stream",
     "text": [
      "\n"
     ]
    }
   ],
   "source": [
    "# UPLOAD df_org_elab in sharepoint\n",
    "SHP_URL= 'https://areasciencepark.sharepoint.com/Sites/DataRepository/Documenti condivisi/General/'\n",
    "SHP_DIR = 'dataset_imprese_fvg/test storicizzazione/elaborati/'\n",
    "SHP_FILE = 'organization_elab.csv'\n",
    "\n",
    "f = df_org_elab.to_csv(sep=';', index=False).encode('utf-8')\n",
    "r = s.put(SHP_URL + SHP_DIR + SHP_FILE, f)\n",
    "print(r.text)"
   ]
  },
  {
   "cell_type": "markdown",
   "metadata": {},
   "source": [
    "Topics"
   ]
  },
  {
   "cell_type": "code",
   "execution_count": 22,
   "metadata": {},
   "outputs": [
    {
     "name": "stdout",
     "output_type": "stream",
     "text": [
      "(35378, 3)\n"
     ]
    }
   ],
   "source": [
    "# Aprire il CSV (\"topics.csv\") in un dataframe\n",
    "SHP_URL = 'https://areasciencepark.sharepoint.com/sites/DataRepository/Documenti condivisi/General/'\n",
    "SHP_DIR = 'dataset_imprese_fvg/test storicizzazione/originali/'\n",
    "SHP_FILE = 'topics.csv'\n",
    "\n",
    "r = s.get(SHP_URL + SHP_DIR + SHP_FILE)\n",
    "f = io.BytesIO(r.content)\n",
    "df_topics = pd.read_csv(f, sep=\";\", dtype = str)\n",
    "print(df_topics.shape)"
   ]
  },
  {
   "cell_type": "code",
   "execution_count": 23,
   "metadata": {},
   "outputs": [],
   "source": [
    "# Copia del df_topics per mantenere l'originale\n",
    "df_topics_elab = df_topics.copy(deep=False)"
   ]
  },
  {
   "cell_type": "code",
   "execution_count": 24,
   "metadata": {},
   "outputs": [
    {
     "name": "stdout",
     "output_type": "stream",
     "text": [
      "\n"
     ]
    }
   ],
   "source": [
    "# UPLOAD df_topics_elab in sharepoint\n",
    "SHP_URL= 'https://areasciencepark.sharepoint.com/Sites/DataRepository/Documenti condivisi/General/'\n",
    "SHP_DIR = 'dataset_imprese_fvg/test storicizzazione/elaborati/'\n",
    "SHP_FILE = 'topics_elab.csv'\n",
    "\n",
    "f = df_topics_elab.to_csv(sep=';', index=False).encode('utf-8')\n",
    "r = s.put(SHP_URL + SHP_DIR + SHP_FILE, f)\n",
    "print(r.text)"
   ]
  },
  {
   "cell_type": "markdown",
   "metadata": {},
   "source": [
    "EuroSciVoc"
   ]
  },
  {
   "cell_type": "code",
   "execution_count": 25,
   "metadata": {},
   "outputs": [
    {
     "name": "stdout",
     "output_type": "stream",
     "text": [
      "(88930, 4)\n",
      "  projectID euroSciVocCode                                     euroSciVocPath  \\\n",
      "0    750802         /30029  /natural sciences/physical sciences/classical ...   \n",
      "1    750802      /34823946  /natural sciences/physical sciences/classical ...   \n",
      "2    655710         /30048  /social sciences/law/human rights/human rights...   \n",
      "3    701591      /77161814  /natural sciences/biological sciences/genetics...   \n",
      "4    701591           /343  /natural sciences/biological sciences/evolutio...   \n",
      "\n",
      "        euroSciVocTitle  \n",
      "0       solid mechanics  \n",
      "1         microfluidics  \n",
      "2      human rights law  \n",
      "3         viral genomes  \n",
      "4  evolutionary biology  \n"
     ]
    }
   ],
   "source": [
    "# Apro il CSV (\"euroSciVoc.csv\") in un dataframe\n",
    "SHP_URL = 'https://areasciencepark.sharepoint.com/sites/DataRepository/Documenti condivisi/General/'\n",
    "SHP_DIR = 'dataset_imprese_fvg/test storicizzazione/originali/'\n",
    "SHP_FILE = 'euroSciVoc.csv'\n",
    "\n",
    "r = s.get(SHP_URL + SHP_DIR + SHP_FILE)\n",
    "f = io.BytesIO(r.content)\n",
    "df_esv = pd.read_csv(f, sep=\";\", dtype = str)\n",
    "print(df_esv.shape)\n",
    "print(df_esv.head(5))"
   ]
  },
  {
   "cell_type": "code",
   "execution_count": 26,
   "metadata": {},
   "outputs": [
    {
     "data": {
      "text/plain": [
       "Index(['projectID', 'euroSciVocCode', 'euroSciVocPath', 'euroSciVocTitle'], dtype='object')"
      ]
     },
     "execution_count": 26,
     "metadata": {},
     "output_type": "execute_result"
    }
   ],
   "source": [
    "df_esv_elab = df_esv.copy(deep=False)\n",
    "df_esv_elab.columns"
   ]
  },
  {
   "cell_type": "code",
   "execution_count": 27,
   "metadata": {},
   "outputs": [
    {
     "name": "stdout",
     "output_type": "stream",
     "text": [
      "   projectID                                           esvTitle\n",
      "0  101000020                                    public policies\n",
      "1  101000063                                          didactics\n",
      "2  101000132                                         governance\n",
      "3  101000154                  drones;rotorcraft;control systems\n",
      "4  101000158  renewable energy;data exchange;internet of thi...\n",
      "5  101000160                                           oncology\n",
      "6  101000162                            automation;productivity\n",
      "7  101000165                                      deep learning\n",
      "8  101000169                              software;data science\n",
      "9  101000180                                         ultrasound\n",
      "I progetti del dataframe sono: (32052, 2)\n"
     ]
    }
   ],
   "source": [
    "# Per esercizio: uso il groupby per mettere tutti i title in un'unica cella per progetto \n",
    "# (che dovrà apparire solo una volta per riga)\n",
    "df_esv_elab_subset = df_esv_elab[['projectID', 'euroSciVocTitle']]\n",
    "#df_esv_elab_subset['euroSciVocTitle'] = df_esv_elab_subset['euroSciVocTitle'].astype(str)\n",
    "df_esv_elab_subset= df_esv_elab_subset.groupby('projectID')['euroSciVocTitle'].apply(';'.join).reset_index()\n",
    "df_esv_elab_subset = df_esv_elab_subset.rename(columns={\n",
    "    'euroSciVocTitle':'esvTitle'\n",
    "})\n",
    "print(df_esv_elab_subset.head(10))\n",
    "print(f\"I progetti del dataframe sono: {df_esv_elab_subset.shape}\")"
   ]
  },
  {
   "cell_type": "code",
   "execution_count": 28,
   "metadata": {},
   "outputs": [],
   "source": [
    "# inserisco la nuova colonna nel df_esv_elab\n",
    "df_esv_elab = pd.merge(df_esv_elab, df_esv_elab_subset, how='left', on='projectID')"
   ]
  },
  {
   "cell_type": "code",
   "execution_count": 29,
   "metadata": {},
   "outputs": [],
   "source": [
    "df_esv_elab = df_esv_elab.drop(columns=[\n",
    "    'euroSciVocTitle', 'euroSciVocCode', 'euroSciVocPath'\n",
    "])"
   ]
  },
  {
   "cell_type": "code",
   "execution_count": 30,
   "metadata": {},
   "outputs": [
    {
     "name": "stdout",
     "output_type": "stream",
     "text": [
      "I progetti a cui almeno un'organizzazione italiana ha partecipato e con tema da euroSciVoc sono in totale : (6759, 2)\n"
     ]
    }
   ],
   "source": [
    "# usare il filtro df_projectID_IT per mantenere solo i progetti italiani (uno dei due creati sul df dell'organizzazione)\n",
    "# NB: così si perde l'informazione sui diversi temi che lo stesso grogetto ha nella colonna euroSciVocPath\n",
    "#df_esv_elab = pd.merge(df_projectID_IT, df_esv_elab, how='left', on='projectID')\n",
    "df_esv_elab = df_esv_elab[df_esv_elab['projectID'].isin(filter_projectID)]\n",
    "# eliminare i doppioni\n",
    "df_esv_elab = df_esv_elab.drop_duplicates(subset=['projectID'])\n",
    "print(f\"I progetti a cui almeno un'organizzazione italiana ha partecipato e con tema da euroSciVoc sono in totale : {df_esv_elab.shape}\")"
   ]
  },
  {
   "cell_type": "code",
   "execution_count": 31,
   "metadata": {},
   "outputs": [],
   "source": [
    "# # Creare tante colonne quanti i livelli della colonna \"euroSciVocPath\"\n",
    "# df_esv_paths = df_esv_elab['euroSciVocPath'].str.split('/', expand = True).fillna('null')\n",
    "# print(type(df_esv_paths))\n",
    "# print(df_esv_paths.head(5))\n",
    "# # nomi delle colonne di df_esv_paths\n",
    "# for col in df_esv_paths.columns:\n",
    "#    print(f\"Nome colonna: {col}\")\n",
    "\n",
    "# # splitting 'Name' column into Two columns \n",
    "# i.e. 'First' and 'Last'respectively and \n",
    "# # Adding these columns to the existing dataframe.\n",
    "# df[['First','Last']] = df.Name.apply(\n",
    "#    lambda x: pd.Series(str(x).split(\"_\")))\n",
    "\n",
    "# # Mantengo solamente la colonna 'path1'\n",
    "# df_esv_paths = df_esv_paths.drop(columns=[\n",
    "#    0, 2, 3, 4, 5, 6, 7\n",
    "# ], axis=1, inplace=True)\n",
    "\n",
    "# # Rinominare le colonne dal df_esv_paths\n",
    "# df_esv_paths = df_esv_paths.rename(columns={\n",
    "#    1: 'euroSciVocPath1',\n",
    "#    })\n",
    "# df_esv_paths.columns\n",
    "\n",
    "# # Verifico i valori null nelle varie colonne (voglio che tutti i campi siano valorizzati, altrimenti elimino le colonne successive a quella totalemente valorizzata)\n",
    "\n",
    "# print(df_org_elab[\"country\"].value_counts().head())\n",
    "\n",
    "# null_value = ['null']\n",
    "# df_null_path = df_esv_paths.loc[df_esv_paths['path1'].isin(null_value)]\n",
    "# df_null_path = df_esv_paths[df_esv_paths['path1'].isin(null_value)]\n",
    "# df_null_path\n",
    "\n",
    "# # Uniamo i due dataframe\n",
    "# df_esv_elab = pd.merge(df_esv_elab, df_esv_path, how='left', on='columnmerge')"
   ]
  },
  {
   "cell_type": "code",
   "execution_count": 32,
   "metadata": {},
   "outputs": [
    {
     "name": "stdout",
     "output_type": "stream",
     "text": [
      "\n"
     ]
    }
   ],
   "source": [
    "# UPLOAD df_topics_elab in sharepoint\n",
    "SHP_URL= 'https://areasciencepark.sharepoint.com/Sites/DataRepository/Documenti condivisi/General/'\n",
    "SHP_DIR = 'dataset_imprese_fvg/test storicizzazione/elaborati/'\n",
    "SHP_FILE = 'euroSciVoc_elab.csv'\n",
    "\n",
    "f = df_esv_elab.to_csv(sep=';', index=False).encode('utf-8')\n",
    "r = s.put(SHP_URL + SHP_DIR + SHP_FILE, f)\n",
    "print(r.text)"
   ]
  },
  {
   "cell_type": "markdown",
   "metadata": {},
   "source": [
    "## Unione e salvataggio dei .csv elaborati nella cartella \"finale\" "
   ]
  },
  {
   "cell_type": "markdown",
   "metadata": {},
   "source": [
    "Salvo tutti i csv della cartella elaborati come un unico file csv nella cartella finale"
   ]
  },
  {
   "cell_type": "code",
   "execution_count": 33,
   "metadata": {},
   "outputs": [
    {
     "name": "stdout",
     "output_type": "stream",
     "text": [
      "Il dataframe sui progetti aveva dimensione: (35378, 11)\n",
      "Il dataframe sui topics aveva dimensione: (35378, 3)\n",
      "Il nuovo dataframe ha dimensioni: (35378, 13)\n"
     ]
    },
    {
     "data": {
      "text/html": [
       "<div>\n",
       "<style scoped>\n",
       "    .dataframe tbody tr th:only-of-type {\n",
       "        vertical-align: middle;\n",
       "    }\n",
       "\n",
       "    .dataframe tbody tr th {\n",
       "        vertical-align: top;\n",
       "    }\n",
       "\n",
       "    .dataframe thead th {\n",
       "        text-align: right;\n",
       "    }\n",
       "</style>\n",
       "<table border=\"1\" class=\"dataframe\">\n",
       "  <thead>\n",
       "    <tr style=\"text-align: right;\">\n",
       "      <th></th>\n",
       "      <th>projectID</th>\n",
       "      <th>acronym</th>\n",
       "      <th>status</th>\n",
       "      <th>long_title</th>\n",
       "      <th>startDate</th>\n",
       "      <th>endDate</th>\n",
       "      <th>totalCost</th>\n",
       "      <th>frameworkProgramme</th>\n",
       "      <th>call</th>\n",
       "      <th>fundingScheme</th>\n",
       "      <th>objective</th>\n",
       "      <th>topic</th>\n",
       "      <th>title</th>\n",
       "    </tr>\n",
       "  </thead>\n",
       "  <tbody>\n",
       "    <tr>\n",
       "      <th>0</th>\n",
       "      <td>750802</td>\n",
       "      <td>El_CapiTun</td>\n",
       "      <td>CLOSED</td>\n",
       "      <td>An elastocapillary-enabled self-tunable microf...</td>\n",
       "      <td>2018-01-01</td>\n",
       "      <td>2019-12-31</td>\n",
       "      <td>175419.6</td>\n",
       "      <td>H2020</td>\n",
       "      <td>H2020-MSCA-IF-2016</td>\n",
       "      <td>MSCA-IF-EF-ST</td>\n",
       "      <td>I am a French citizen with international train...</td>\n",
       "      <td>MSCA-IF-2016</td>\n",
       "      <td>Individual Fellowships</td>\n",
       "    </tr>\n",
       "    <tr>\n",
       "      <th>1</th>\n",
       "      <td>655710</td>\n",
       "      <td>CONRICONF</td>\n",
       "      <td>CLOSED</td>\n",
       "      <td>Contentious Rights: A Comparative Study of Int...</td>\n",
       "      <td>2016-01-17</td>\n",
       "      <td>2020-02-08</td>\n",
       "      <td>269857.8</td>\n",
       "      <td>H2020</td>\n",
       "      <td>H2020-MSCA-IF-2014</td>\n",
       "      <td>MSCA-IF-GF</td>\n",
       "      <td>Contentious Rights: A Comparative Study of Int...</td>\n",
       "      <td>MSCA-IF-2014-GF</td>\n",
       "      <td>Marie Skłodowska-Curie Individual Fellowships ...</td>\n",
       "    </tr>\n",
       "    <tr>\n",
       "      <th>2</th>\n",
       "      <td>701591</td>\n",
       "      <td>EvolVir</td>\n",
       "      <td>CLOSED</td>\n",
       "      <td>Evolution of virulence in immune-compromised h...</td>\n",
       "      <td>2017-07-01</td>\n",
       "      <td>2019-06-30</td>\n",
       "      <td>195454.8</td>\n",
       "      <td>H2020</td>\n",
       "      <td>H2020-MSCA-IF-2015</td>\n",
       "      <td>MSCA-IF-EF-ST</td>\n",
       "      <td>Understanding pathogen evolution is key to pre...</td>\n",
       "      <td>MSCA-IF-2015-EF</td>\n",
       "      <td>Marie Skłodowska-Curie Individual Fellowships ...</td>\n",
       "    </tr>\n",
       "  </tbody>\n",
       "</table>\n",
       "</div>"
      ],
      "text/plain": [
       "  projectID     acronym  status  \\\n",
       "0    750802  El_CapiTun  CLOSED   \n",
       "1    655710   CONRICONF  CLOSED   \n",
       "2    701591     EvolVir  CLOSED   \n",
       "\n",
       "                                          long_title   startDate     endDate  \\\n",
       "0  An elastocapillary-enabled self-tunable microf...  2018-01-01  2019-12-31   \n",
       "1  Contentious Rights: A Comparative Study of Int...  2016-01-17  2020-02-08   \n",
       "2  Evolution of virulence in immune-compromised h...  2017-07-01  2019-06-30   \n",
       "\n",
       "  totalCost frameworkProgramme                call  fundingScheme  \\\n",
       "0  175419.6              H2020  H2020-MSCA-IF-2016  MSCA-IF-EF-ST   \n",
       "1  269857.8              H2020  H2020-MSCA-IF-2014     MSCA-IF-GF   \n",
       "2  195454.8              H2020  H2020-MSCA-IF-2015  MSCA-IF-EF-ST   \n",
       "\n",
       "                                           objective            topic  \\\n",
       "0  I am a French citizen with international train...     MSCA-IF-2016   \n",
       "1  Contentious Rights: A Comparative Study of Int...  MSCA-IF-2014-GF   \n",
       "2  Understanding pathogen evolution is key to pre...  MSCA-IF-2015-EF   \n",
       "\n",
       "                                               title  \n",
       "0                             Individual Fellowships  \n",
       "1  Marie Skłodowska-Curie Individual Fellowships ...  \n",
       "2  Marie Skłodowska-Curie Individual Fellowships ...  "
      ]
     },
     "execution_count": 33,
     "metadata": {},
     "output_type": "execute_result"
    }
   ],
   "source": [
    "# merge projects & topics\n",
    "df_proj_top = pd.merge(df_project_elab, df_topics_elab, how='left', on='projectID').fillna('none')\n",
    "print(f\"Il dataframe sui progetti aveva dimensione: {df_project_elab.shape}\")\n",
    "print(f\"Il dataframe sui topics aveva dimensione: {df_topics_elab.shape}\")\n",
    "print(f\"Il nuovo dataframe ha dimensioni: {df_proj_top.shape}\")\n",
    "df_proj_top.head(3)"
   ]
  },
  {
   "cell_type": "code",
   "execution_count": 34,
   "metadata": {},
   "outputs": [
    {
     "name": "stdout",
     "output_type": "stream",
     "text": [
      "Il dataframe precedente aveva dimensione: (35378, 13)\n",
      "Il dataframe su euroSciVoc aveva dimensione: (6759, 2)\n",
      "Il nuovo dataframe ha dimensioni: (35378, 14)\n"
     ]
    },
    {
     "data": {
      "text/html": [
       "<div>\n",
       "<style scoped>\n",
       "    .dataframe tbody tr th:only-of-type {\n",
       "        vertical-align: middle;\n",
       "    }\n",
       "\n",
       "    .dataframe tbody tr th {\n",
       "        vertical-align: top;\n",
       "    }\n",
       "\n",
       "    .dataframe thead th {\n",
       "        text-align: right;\n",
       "    }\n",
       "</style>\n",
       "<table border=\"1\" class=\"dataframe\">\n",
       "  <thead>\n",
       "    <tr style=\"text-align: right;\">\n",
       "      <th></th>\n",
       "      <th>projectID</th>\n",
       "      <th>acronym</th>\n",
       "      <th>status</th>\n",
       "      <th>long_title</th>\n",
       "      <th>startDate</th>\n",
       "      <th>endDate</th>\n",
       "      <th>totalCost</th>\n",
       "      <th>frameworkProgramme</th>\n",
       "      <th>call</th>\n",
       "      <th>fundingScheme</th>\n",
       "      <th>objective</th>\n",
       "      <th>topic</th>\n",
       "      <th>title</th>\n",
       "      <th>esvTitle</th>\n",
       "    </tr>\n",
       "  </thead>\n",
       "  <tbody>\n",
       "    <tr>\n",
       "      <th>0</th>\n",
       "      <td>750802</td>\n",
       "      <td>El_CapiTun</td>\n",
       "      <td>CLOSED</td>\n",
       "      <td>An elastocapillary-enabled self-tunable microf...</td>\n",
       "      <td>2018-01-01</td>\n",
       "      <td>2019-12-31</td>\n",
       "      <td>175419.6</td>\n",
       "      <td>H2020</td>\n",
       "      <td>H2020-MSCA-IF-2016</td>\n",
       "      <td>MSCA-IF-EF-ST</td>\n",
       "      <td>I am a French citizen with international train...</td>\n",
       "      <td>MSCA-IF-2016</td>\n",
       "      <td>Individual Fellowships</td>\n",
       "      <td>none</td>\n",
       "    </tr>\n",
       "    <tr>\n",
       "      <th>1</th>\n",
       "      <td>655710</td>\n",
       "      <td>CONRICONF</td>\n",
       "      <td>CLOSED</td>\n",
       "      <td>Contentious Rights: A Comparative Study of Int...</td>\n",
       "      <td>2016-01-17</td>\n",
       "      <td>2020-02-08</td>\n",
       "      <td>269857.8</td>\n",
       "      <td>H2020</td>\n",
       "      <td>H2020-MSCA-IF-2014</td>\n",
       "      <td>MSCA-IF-GF</td>\n",
       "      <td>Contentious Rights: A Comparative Study of Int...</td>\n",
       "      <td>MSCA-IF-2014-GF</td>\n",
       "      <td>Marie Skłodowska-Curie Individual Fellowships ...</td>\n",
       "      <td>none</td>\n",
       "    </tr>\n",
       "    <tr>\n",
       "      <th>2</th>\n",
       "      <td>701591</td>\n",
       "      <td>EvolVir</td>\n",
       "      <td>CLOSED</td>\n",
       "      <td>Evolution of virulence in immune-compromised h...</td>\n",
       "      <td>2017-07-01</td>\n",
       "      <td>2019-06-30</td>\n",
       "      <td>195454.8</td>\n",
       "      <td>H2020</td>\n",
       "      <td>H2020-MSCA-IF-2015</td>\n",
       "      <td>MSCA-IF-EF-ST</td>\n",
       "      <td>Understanding pathogen evolution is key to pre...</td>\n",
       "      <td>MSCA-IF-2015-EF</td>\n",
       "      <td>Marie Skłodowska-Curie Individual Fellowships ...</td>\n",
       "      <td>none</td>\n",
       "    </tr>\n",
       "  </tbody>\n",
       "</table>\n",
       "</div>"
      ],
      "text/plain": [
       "  projectID     acronym  status  \\\n",
       "0    750802  El_CapiTun  CLOSED   \n",
       "1    655710   CONRICONF  CLOSED   \n",
       "2    701591     EvolVir  CLOSED   \n",
       "\n",
       "                                          long_title   startDate     endDate  \\\n",
       "0  An elastocapillary-enabled self-tunable microf...  2018-01-01  2019-12-31   \n",
       "1  Contentious Rights: A Comparative Study of Int...  2016-01-17  2020-02-08   \n",
       "2  Evolution of virulence in immune-compromised h...  2017-07-01  2019-06-30   \n",
       "\n",
       "  totalCost frameworkProgramme                call  fundingScheme  \\\n",
       "0  175419.6              H2020  H2020-MSCA-IF-2016  MSCA-IF-EF-ST   \n",
       "1  269857.8              H2020  H2020-MSCA-IF-2014     MSCA-IF-GF   \n",
       "2  195454.8              H2020  H2020-MSCA-IF-2015  MSCA-IF-EF-ST   \n",
       "\n",
       "                                           objective            topic  \\\n",
       "0  I am a French citizen with international train...     MSCA-IF-2016   \n",
       "1  Contentious Rights: A Comparative Study of Int...  MSCA-IF-2014-GF   \n",
       "2  Understanding pathogen evolution is key to pre...  MSCA-IF-2015-EF   \n",
       "\n",
       "                                               title esvTitle  \n",
       "0                             Individual Fellowships     none  \n",
       "1  Marie Skłodowska-Curie Individual Fellowships ...     none  \n",
       "2  Marie Skłodowska-Curie Individual Fellowships ...     none  "
      ]
     },
     "execution_count": 34,
     "metadata": {},
     "output_type": "execute_result"
    }
   ],
   "source": [
    "# aggiungere le informazioni di euroSciVoc al dataframe precedente\n",
    "df_proj_top_esv = pd.merge(df_proj_top, df_esv_elab, how='left', on='projectID').fillna('none')\n",
    "print(f\"Il dataframe precedente aveva dimensione: {df_proj_top.shape}\")\n",
    "print(f\"Il dataframe su euroSciVoc aveva dimensione: {df_esv_elab.shape}\")\n",
    "print(f\"Il nuovo dataframe ha dimensioni: {df_proj_top_esv.shape}\")\n",
    "df_proj_top_esv.head(3)"
   ]
  },
  {
   "cell_type": "code",
   "execution_count": 35,
   "metadata": {},
   "outputs": [
    {
     "name": "stdout",
     "output_type": "stream",
     "text": [
      "Verifica del conteggio di esvTitle non valorizzati (='none'):\n",
      "none                28619\n",
      "renewable energy       59\n",
      "ecosystems             41\n",
      "aircraft               38\n",
      "transport              27\n",
      "Name: esvTitle, dtype: int64\n"
     ]
    }
   ],
   "source": [
    "# Verifica dei progetti senza 'esvTitle'\n",
    "print(\"Verifica del conteggio di esvTitle non valorizzati (='none'):\")\n",
    "print(df_proj_top_esv[\"esvTitle\"].value_counts().head())\n",
    "# it_filter = df_org_elab[\"country\"] == \"IT\"\n",
    "# df_org_elab = df_org_elab.loc[it_filter].copy()\n",
    "# print(\"Il nuovo dataframe deve avere le stesse righe del conteggio sopra.\")\n",
    "# print(f\"df_org_elab ora ha dimensioni: {df_org_elab.shape}\")"
   ]
  },
  {
   "cell_type": "code",
   "execution_count": 36,
   "metadata": {},
   "outputs": [
    {
     "name": "stdout",
     "output_type": "stream",
     "text": [
      "\n"
     ]
    }
   ],
   "source": [
    "# UPLOAD df_proj_top_esv in sharepoint\n",
    "SHP_URL= 'https://areasciencepark.sharepoint.com/Sites/DataRepository/Documenti condivisi/General/'\n",
    "SHP_DIR = 'dataset_imprese_fvg/test storicizzazione/finale/'\n",
    "SHP_FILE = 'finanziamentiUE_progetti.csv'\n",
    "\n",
    "f = df_proj_top_esv.to_csv(sep=';', index=False).encode('utf-8')\n",
    "r = s.put(SHP_URL + SHP_DIR + SHP_FILE, f)\n",
    "print(r.text)"
   ]
  },
  {
   "cell_type": "code",
   "execution_count": 37,
   "metadata": {},
   "outputs": [
    {
     "name": "stdout",
     "output_type": "stream",
     "text": [
      "\n"
     ]
    }
   ],
   "source": [
    "# UPLOAD df_org_elab in sharepoint\n",
    "SHP_URL= 'https://areasciencepark.sharepoint.com/Sites/DataRepository/Documenti condivisi/General/'\n",
    "SHP_DIR = 'dataset_imprese_fvg/test storicizzazione/finale/'\n",
    "SHP_FILE = 'finanziamentiUE_org.csv'\n",
    "\n",
    "f = df_org_elab.to_csv(sep=';', index=False).encode('utf-8')\n",
    "r = s.put(SHP_URL + SHP_DIR + SHP_FILE, f)\n",
    "print(r.text)"
   ]
  }
 ],
 "metadata": {
  "interpreter": {
   "hash": "916dbcbb3f70747c44a77c7bcd40155683ae19c65e1c03b4aa3499c5328201f1"
  },
  "kernelspec": {
   "display_name": "Python 3.8.10 64-bit",
   "language": "python",
   "name": "python3"
  },
  "language_info": {
   "codemirror_mode": {
    "name": "ipython",
    "version": 3
   },
   "file_extension": ".py",
   "mimetype": "text/x-python",
   "name": "python",
   "nbconvert_exporter": "python",
   "pygments_lexer": "ipython3",
   "version": "3.8.10"
  },
  "orig_nbformat": 4
 },
 "nbformat": 4,
 "nbformat_minor": 2
}
